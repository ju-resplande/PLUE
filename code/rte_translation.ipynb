{
  "nbformat": 4,
  "nbformat_minor": 0,
  "metadata": {
    "colab": {
      "name": "rte_translation.ipynb",
      "provenance": [],
      "collapsed_sections": []
    },
    "kernelspec": {
      "name": "python3",
      "display_name": "Python 3"
    }
  },
  "cells": [
    {
      "cell_type": "markdown",
      "metadata": {
        "id": "0vrEgazEq4ZS",
        "colab_type": "text"
      },
      "source": [
        "Upload files to colab"
      ]
    },
    {
      "cell_type": "markdown",
      "metadata": {
        "id": "6Ql8VzYTp2ab",
        "colab_type": "text"
      },
      "source": [
        "Translation function"
      ]
    },
    {
      "cell_type": "code",
      "metadata": {
        "id": "rnZa51p6oV3K",
        "colab_type": "code",
        "colab": {}
      },
      "source": [
        "#!/usr/bin/env python\n",
        "# coding: utf-8\n",
        "\n",
        "# Translate sentences to English and save mapping dicitionary as json.\n",
        "\n",
        "# Based on https://github.com/ruanchaves/assin/blob/master/sources/translate.py\n",
        "\n",
        "# Parameters:\n",
        "# *   sentences =\n",
        "# *   dictpath =  json dictionary file mapping original sentence with translation\n",
        "# \n",
        "# \n",
        "\n",
        "# In[ ]:\n",
        "\n",
        "\n",
        "from google.cloud import translate_v2 as translate\n",
        "from os.path import isfile\n",
        "from os import environ\n",
        "import six\n",
        "import json\n",
        "\n",
        "def translate2dict(sentences, dictpath):\n",
        "    environ['GOOGLE_APPLICATION_CREDENTIALS'] = './key.json'\n",
        "    translate_client = translate.Client()\n",
        "\n",
        "    def translation(text):\n",
        "        if isinstance(text, six.binary_type):\n",
        "            text = text.decode('utf-8')\n",
        "        result = translate_client.translate(text,'pt-br')\n",
        "\n",
        "        return result['translatedText']\n",
        "\n",
        "    if not isfile(dictpath):\n",
        "        with open(dictpath, 'w') as f:\n",
        "            json.dump({}, f)\n",
        "\n",
        "    for item in sentences:\n",
        "        with open(dictpath) as f:\n",
        "            translations = json.load(f)\n",
        "        \n",
        "        try:\n",
        "            translations[item]\n",
        "        except KeyError:\n",
        "            translations[item] = translation(item)\n",
        "            \n",
        "            with open(dictpath, 'w+') as f:\n",
        "                json.dump(translations, f)"
      ],
      "execution_count": 0,
      "outputs": []
    },
    {
      "cell_type": "markdown",
      "metadata": {
        "id": "3ZWqtMqHp8Ay",
        "colab_type": "text"
      },
      "source": [
        "Prepare input"
      ]
    },
    {
      "cell_type": "code",
      "metadata": {
        "id": "FI_iOFcnoFXt",
        "colab_type": "code",
        "outputId": "d2485b75-2ee7-40aa-87ce-a7bf5333f6f1",
        "colab": {
          "base_uri": "https://localhost:8080/",
          "height": 68
        }
      },
      "source": [
        "from pprint import pprint\n",
        "import pandas as pd\n",
        "import os\n",
        "\n",
        "sentences = list()\n",
        "label_idx = [\n",
        "             'sentence1',\n",
        "             'sentence2',\n",
        "            ]\n",
        "length = 0\n",
        "\n",
        "for f in ['train.tsv', 'test.tsv', 'dev.tsv']:\n",
        "    table = pd.read_csv(f, sep = '\\t', quoting=3)\n",
        "    print(f) \n",
        "    #print(table.head())\n",
        "    #print('\\n'*3)\n",
        "    \n",
        "    for idx in label_idx:\n",
        "        label = table[idx].copy()\n",
        "        #print(label)\n",
        "        #print('\\n'*2)\n",
        "\n",
        "        sentences.extend(list(label))\n",
        "        length = length + label.size\n",
        "\n",
        "\n",
        "assert length == len(sentences)\n",
        "sentences = set(sentences)"
      ],
      "execution_count": 29,
      "outputs": [
        {
          "output_type": "stream",
          "text": [
            "train.tsv\n",
            "test.tsv\n",
            "dev.tsv\n"
          ],
          "name": "stdout"
        }
      ]
    },
    {
      "cell_type": "code",
      "metadata": {
        "id": "sy1sEXziunRU",
        "colab_type": "code",
        "colab": {}
      },
      "source": [
        "#Ver as sentenças semelhantes\n",
        "\n",
        "# erro 'Rosinha Matheus is an Evangelical Christian.'\n",
        "#'Rosinha Matheus é um cristã evangélica.'\n",
        "#sentences.remove('Rosinha Matheus is an Evangelical Christian.')\n",
        "\n",
        "\n",
        "#erro 'Jador Barbalho is a politician.'\n",
        "#'Jador Barbalho é um político.'\n",
        "#sentences.remove('Jador Barbalho is a politician.')\n",
        "\n",
        "#erro  \"Celso Amorim is Arthur Virgílio's neighbour.\"\n",
        "#'Celso Amorim é vizinho de Arthur Virgílio.'\n",
        "#sentences.remove(\"Celso Amorim is Arthur Virgílio's neighbour.\")\n",
        "\n",
        "#erro 'Souza Aguiar Hospital is situated in Rio de Janeiro.'\n",
        "#'O Hospital Souza Aguiar está situado no Rio de Janeiro.'\n",
        "#sentences.remove('Souza Aguiar Hospital is situated in Rio de Janeiro.')\n",
        "\n",
        "#erro 'Morro da Rocinha is near the Vidigal favela.'\n",
        "#'O Morro da Rocinha fica perto da favela do Vidigal.'\n",
        "#sentences.remove('Morro da Rocinha is near the Vidigal favela.')\n",
        "\n",
        "#erro 'Apathy clouds EU voting.'\n",
        "#'Apatia nubla votação na UE.'\n",
        "#sentences.remove('Apathy clouds EU voting.')\n",
        "\n",
        "#erro 'Dercy Gonçalves died of pneumonia.'\n",
        "#'Dercy Gonçalves morreu de pneumonia.'\n",
        "#sentences.remove('Dercy Gonçalves died of pneumonia.')\n",
        "\n",
        "#erro 'Vítor Miro Bastos de Moura is the employer of Adalberto Xavier Leal.'\n",
        "#'Vítor Miro Bastos de Moura é o empregador de Adalberto Xavier Leal.'\n",
        "#sentences.remove('Vítor Miro Bastos de Moura is the employer of Adalberto Xavier Leal.')"
      ],
      "execution_count": 0,
      "outputs": []
    },
    {
      "cell_type": "code",
      "metadata": {
        "id": "IcyUIYuc0UB2",
        "colab_type": "code",
        "colab": {}
      },
      "source": [
        "import json\n",
        "with open('rte.json') as reader:\n",
        "    translation = json.load(reader)\n",
        "\n",
        "translation['Rosinha Matheus is an Evangelical Christian.'] = 'Rosinha Matheus é um cristã evangélica.'\n",
        "translation['Jador Barbalho is a politician.'] = 'Jador Barbalho é um político.'\n",
        "translation[\"Celso Amorim is Arthur Virgílio's neighbour.\"] = 'Celso Amorim é vizinho de Arthur Virgílio.'\n",
        "translation['Souza Aguiar Hospital is situated in Rio de Janeiro.'] = 'O Hospital Souza Aguiar está situado no Rio de Janeiro.'\n",
        "translation['Morro da Rocinha is near the Vidigal favela.'] = 'O Morro da Rocinha fica perto da favela do Vidigal.'\n",
        "translation['Apathy clouds EU voting.'] =  'Apatia nubla votação na UE.'\n",
        "translation['Dercy Gonçalves died of pneumonia.'] = 'Dercy Gonçalves morreu de pneumonia.'\n",
        "translation['Vítor Miro Bastos de Moura is the employer of Adalberto Xavier Leal.'] = 'Vítor Miro Bastos de Moura é o empregador de Adalberto Xavier Leal.'\n",
        "\n",
        "with open('rte.json', 'w') as writer:\n",
        "    json.dump(translation, writer)"
      ],
      "execution_count": 0,
      "outputs": []
    },
    {
      "cell_type": "markdown",
      "metadata": {
        "id": "_peRvDIlvRjY",
        "colab_type": "text"
      },
      "source": [
        "Translate"
      ]
    },
    {
      "cell_type": "code",
      "metadata": {
        "id": "3duX01qTvRTX",
        "colab_type": "code",
        "colab": {}
      },
      "source": [
        "translate2dict(sentences,  'rte.json')"
      ],
      "execution_count": 0,
      "outputs": []
    },
    {
      "cell_type": "markdown",
      "metadata": {
        "id": "twDojDjd9q1t",
        "colab_type": "text"
      },
      "source": [
        "Replace with translation"
      ]
    },
    {
      "cell_type": "code",
      "metadata": {
        "id": "7GfKT7sj9rMK",
        "colab_type": "code",
        "colab": {}
      },
      "source": [
        "from os import mkdir\n",
        "import json\n",
        "\n",
        "with open('rte.json') as reader:\n",
        "    dictionary = json.load(reader)\n",
        "\n",
        "mkdir('translation')\n",
        "for f in ['train.tsv', 'test.tsv', 'dev.tsv']:\n",
        "    table = pd.read_csv(f, sep = '\\t', quoting=3)\n",
        "    for idx in label_idx:\n",
        "        table[idx] = table[idx].map(dictionary)\n",
        "    table.to_csv(f'translation/{f}', index = None, sep = '\\t')"
      ],
      "execution_count": 0,
      "outputs": []
    }
  ]
}