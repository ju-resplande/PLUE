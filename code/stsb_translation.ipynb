{
  "cells": [
    {
      "cell_type": "markdown",
      "metadata": {
        "id": "0vrEgazEq4ZS",
        "colab_type": "text"
      },
      "source": [
        "Upload files to colab"
      ]
    },
    {
      "cell_type": "markdown",
      "metadata": {
        "id": "6Ql8VzYTp2ab",
        "colab_type": "text"
      },
      "source": [
        "Translation function"
      ]
    },
    {
      "cell_type": "code",
      "metadata": {
        "id": "rnZa51p6oV3K",
        "colab_type": "code",
        "colab": {}
      },
      "source": [
        "#!/usr/bin/env python\n",
        "# coding: utf-8\n",
        "\n",
        "# Translate sentences to English and save mapping dicitionary as json.\n",
        "\n",
        "# Based on https://github.com/ruanchaves/assin/blob/master/sources/translate.py\n",
        "\n",
        "# Parameters:\n",
        "# *   sentences =\n",
        "# *   dictpath =  json dictionary file mapping original sentence with translation\n",
        "# \n",
        "# \n",
        "\n",
        "# In[ ]:\n",
        "\n",
        "\n",
        "from google.cloud import translate_v2 as translate\n",
        "from os.path import isfile\n",
        "from os import environ\n",
        "import six\n",
        "import json\n",
        "\n",
        "def translate2dict(sentences, dictpath):\n",
        "    environ['GOOGLE_APPLICATION_CREDENTIALS'] = './key.json'\n",
        "    translate_client = translate.Client()\n",
        "\n",
        "    def translation(text):\n",
        "        if isinstance(text, six.binary_type):\n",
        "            text = text.decode('utf-8')\n",
        "        result = translate_client.translate(text,'pt-br')\n",
        "\n",
        "        return result['translatedText']\n",
        "\n",
        "    if not isfile(dictpath):\n",
        "        with open(dictpath, 'w') as f:\n",
        "            json.dump({}, f)\n",
        "\n",
        "    for item in sentences:\n",
        "        with open(dictpath) as f:\n",
        "            translations = json.load(f)\n",
        "        \n",
        "        if item not in translations.keys():\n",
        "            translations[item] = translation(item)\n",
        "            \n",
        "            with open(dictpath, 'w+') as f:\n",
        "                json.dump(translations, f)"
      ],
      "execution_count": 0,
      "outputs": []
    },
    {
      "cell_type": "markdown",
      "metadata": {
        "id": "3ZWqtMqHp8Ay",
        "colab_type": "text"
      },
      "source": [
        "Prepare input"
      ]
    },
    {
      "cell_type": "code",
      "metadata": {
        "id": "FI_iOFcnoFXt",
        "colab_type": "code",
        "outputId": "06457f55-3973-44ec-88a6-dc6636fb6ce7",
        "colab": {
          "base_uri": "https://localhost:8080/",
          "height": 1000
        }
      },
      "source": [
        "from pprint import pprint\n",
        "import pandas as pd\n",
        "import os\n",
        "\n",
        "sentences = list()\n",
        "label_idx = [\n",
        "             'sentence1',\n",
        "             'sentence2',\n",
        "            ]\n",
        "length = 0\n",
        "\n",
        "for f in ['train.tsv', 'test.tsv', 'dev.tsv']:\n",
        "    table = pd.read_csv(f, sep = '\\t', quoting=3)\n",
        "    print(f) \n",
        "    #print(table.head())\n",
        "    #print('\\n'*3)\n",
        "    \n",
        "    for idx in label_idx:\n",
        "        label = table[idx].copy()\n",
        "        print(label)\n",
        "        print('\\n'*2)\n",
        "\n",
        "        sentences.extend(list(label))\n",
        "        length = length + label.size\n",
        "\n",
        "\n",
        "assert length == len(sentences)\n",
        "sentences = set(sentences)"
      ],
      "execution_count": 3,
      "outputs": [
        {
          "output_type": "stream",
          "text": [
            "train.tsv\n",
            "0                                  A plane is taking off.\n",
            "1                         A man is playing a large flute.\n",
            "2           A man is spreading shreded cheese on a pizza.\n",
            "3                            Three men are playing chess.\n",
            "4                             A man is playing the cello.\n",
            "                              ...                        \n",
            "5744           Severe Gales As Storm Clodagh Hits Britain\n",
            "5745    Dozens of Egyptians hostages taken by Libyan t...\n",
            "5746                         President heading to Bahrain\n",
            "5747           China, India vow to further bilateral ties\n",
            "5748     Putin spokesman: Doping charges appear unfounded\n",
            "Name: sentence1, Length: 5749, dtype: object\n",
            "\n",
            "\n",
            "\n",
            "0                             An air plane is taking off.\n",
            "1                               A man is playing a flute.\n",
            "2       A man is spreading shredded cheese on an uncoo...\n",
            "3                              Two men are playing chess.\n",
            "4                      A man seated is playing the cello.\n",
            "                              ...                        \n",
            "5744           Merkel pledges NATO solidarity with Latvia\n",
            "5745    Egyptian boat crash death toll rises as more b...\n",
            "5746    President Xi: China to continue help to fight ...\n",
            "5747    China Scrambles to Reassure Jittery Stock Traders\n",
            "5748    The Latest on Severe Weather: 1 Dead in Texas ...\n",
            "Name: sentence2, Length: 5749, dtype: object\n",
            "\n",
            "\n",
            "\n",
            "test.tsv\n",
            "0                             A girl is styling her hair.\n",
            "1                A group of men play soccer on the beach.\n",
            "2           One woman is measuring another woman's ankle.\n",
            "3                         A man is cutting up a cucumber.\n",
            "4                                A man is playing a harp.\n",
            "                              ...                        \n",
            "1374    Philippines, Canada pledge to further boost re...\n",
            "1375    Israel bars Palestinians from Jerusalem's Old ...\n",
            "1376           How much do you know about Secret Service?\n",
            "1377    Obama Struggles to Soothe Saudi Fears As Iran ...\n",
            "1378            South Korea declares end to MERS outbreak\n",
            "Name: sentence1, Length: 1379, dtype: object\n",
            "\n",
            "\n",
            "\n",
            "0                            A girl is brushing her hair.\n",
            "1        A group of boys are playing soccer on the beach.\n",
            "2                 A woman measures another woman's ankle.\n",
            "3                            A man is slicing a cucumber.\n",
            "4                            A man is playing a keyboard.\n",
            "                              ...                        \n",
            "1374              Philippines saves 100 after ferry sinks\n",
            "1375    Two-state solution between Palestinians, Israe...\n",
            "1376    Lawmakers from both sides express outrage at S...\n",
            "1377    Myanmar Struggles to Finalize Voter Lists for ...\n",
            "1378    North Korea Delegation Meets With South Korean...\n",
            "Name: sentence2, Length: 1379, dtype: object\n",
            "\n",
            "\n",
            "\n",
            "dev.tsv\n",
            "0                       A man with a hard hat is dancing.\n",
            "1                        A young child is riding a horse.\n",
            "2                    A man is feeding a mouse to a snake.\n",
            "3                          A woman is playing the guitar.\n",
            "4                           A woman is playing the flute.\n",
            "                              ...                        \n",
            "1495              Scientists prove there is water on Mars\n",
            "1496    Pranab stresses need to strive for peace by na...\n",
            "1497    Volkswagen skids into red in wake of pollution...\n",
            "1498    Obama is right: Africa deserves better leadership\n",
            "1499    New video shows US police officers beating men...\n",
            "Name: sentence1, Length: 1500, dtype: object\n",
            "\n",
            "\n",
            "\n",
            "0                    A man wearing a hard hat is dancing.\n",
            "1                              A child is riding a horse.\n",
            "2                The man is feeding a mouse to the snake.\n",
            "3                                A man is playing guitar.\n",
            "4                               A man is playing a flute.\n",
            "                              ...                        \n",
            "1495                   Has Nasa discovered water on Mars?\n",
            "1496       WTO: India regrets action of developed nations\n",
            "1497    Volkswagen's \"gesture of goodwill\" to diesel o...\n",
            "1498    Obama waiting for midterm to name attorney gen...\n",
            "1499    New York police officer critically wounded in ...\n",
            "Name: sentence2, Length: 1500, dtype: object\n",
            "\n",
            "\n",
            "\n"
          ],
          "name": "stdout"
        }
      ]
    },
    {
      "cell_type": "markdown",
      "metadata": {
        "id": "_peRvDIlvRjY",
        "colab_type": "text"
      },
      "source": [
        "Translate"
      ]
    },
    {
      "cell_type": "code",
      "metadata": {
        "id": "3duX01qTvRTX",
        "colab_type": "code",
        "colab": {}
      },
      "source": [
        "translate2dict(sentences,  'stsb.json')"
      ],
      "execution_count": 0,
      "outputs": []
    },
    {
      "cell_type": "markdown",
      "metadata": {
        "id": "twDojDjd9q1t",
        "colab_type": "text"
      },
      "source": [
        "Replace with translation"
      ]
    },
    {
      "cell_type": "code",
      "metadata": {
        "id": "7GfKT7sj9rMK",
        "colab_type": "code",
        "colab": {}
      },
      "source": [
        "from os import mkdir\n",
        "import json\n",
        "\n",
        "with open('stsb.json') as reader:\n",
        "    dictionary = json.load(reader)\n",
        "\n",
        "mkdir('translation')\n",
        "for f in ['train.tsv', 'test.tsv', 'dev.tsv']:\n",
        "    table = pd.read_csv(f, sep = '\\t', quoting=3)\n",
        "    for idx in label_idx:\n",
        "        table[idx] = table[idx].map(dictionary)\n",
        "    table.to_csv(f'translation/{f}', index = None, sep = '\\t')"
      ],
      "execution_count": 0,
      "outputs": []
    }
  ],
  "metadata": {
    "colab": {
      "name": "stsb_translation.ipynb",
      "provenance": [],
      "collapsed_sections": []
    },
    "kernelspec": {
      "name": "python3",
      "display_name": "Python 3"
    }
  },
  "nbformat": 4,
  "nbformat_minor": 0
}