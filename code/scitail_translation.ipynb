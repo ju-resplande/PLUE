{
  "nbformat": 4,
  "nbformat_minor": 0,
  "metadata": {
    "colab": {
      "name": "scitail_translation.ipynb",
      "provenance": [],
      "collapsed_sections": []
    },
    "kernelspec": {
      "name": "python3",
      "display_name": "Python 3"
    },
    "widgets": {
      "application/vnd.jupyter.widget-state+json": {
        "773d0caf2ee64f8681a8332346ddf2e8": {
          "model_module": "@jupyter-widgets/controls",
          "model_name": "HBoxModel",
          "state": {
            "_view_name": "HBoxView",
            "_dom_classes": [],
            "_model_name": "HBoxModel",
            "_view_module": "@jupyter-widgets/controls",
            "_model_module_version": "1.5.0",
            "_view_count": null,
            "_view_module_version": "1.5.0",
            "box_style": "",
            "layout": "IPY_MODEL_9c22a7e465234f2584b4f12cad11daaf",
            "_model_module": "@jupyter-widgets/controls",
            "children": [
              "IPY_MODEL_1e2ff77ee8bc4ef0bef6e0d62379adc7",
              "IPY_MODEL_9ecac0284d544fc2a461a735a0e8394b"
            ]
          }
        },
        "9c22a7e465234f2584b4f12cad11daaf": {
          "model_module": "@jupyter-widgets/base",
          "model_name": "LayoutModel",
          "state": {
            "_view_name": "LayoutView",
            "grid_template_rows": null,
            "right": null,
            "justify_content": null,
            "_view_module": "@jupyter-widgets/base",
            "overflow": null,
            "_model_module_version": "1.2.0",
            "_view_count": null,
            "flex_flow": null,
            "width": null,
            "min_width": null,
            "border": null,
            "align_items": null,
            "bottom": null,
            "_model_module": "@jupyter-widgets/base",
            "top": null,
            "grid_column": null,
            "overflow_y": null,
            "overflow_x": null,
            "grid_auto_flow": null,
            "grid_area": null,
            "grid_template_columns": null,
            "flex": null,
            "_model_name": "LayoutModel",
            "justify_items": null,
            "grid_row": null,
            "max_height": null,
            "align_content": null,
            "visibility": null,
            "align_self": null,
            "height": null,
            "min_height": null,
            "padding": null,
            "grid_auto_rows": null,
            "grid_gap": null,
            "max_width": null,
            "order": null,
            "_view_module_version": "1.2.0",
            "grid_template_areas": null,
            "object_position": null,
            "object_fit": null,
            "grid_auto_columns": null,
            "margin": null,
            "display": null,
            "left": null
          }
        },
        "1e2ff77ee8bc4ef0bef6e0d62379adc7": {
          "model_module": "@jupyter-widgets/controls",
          "model_name": "FloatProgressModel",
          "state": {
            "_view_name": "ProgressView",
            "style": "IPY_MODEL_185aba93ecaf4cdeadbec8a5421c055c",
            "_dom_classes": [],
            "description": "Translating: 100%",
            "_model_name": "FloatProgressModel",
            "bar_style": "success",
            "max": 273,
            "_view_module": "@jupyter-widgets/controls",
            "_model_module_version": "1.5.0",
            "value": 273,
            "_view_count": null,
            "_view_module_version": "1.5.0",
            "orientation": "horizontal",
            "min": 0,
            "description_tooltip": null,
            "_model_module": "@jupyter-widgets/controls",
            "layout": "IPY_MODEL_bdebcd51120d40b0affa08ff678b55c9"
          }
        },
        "9ecac0284d544fc2a461a735a0e8394b": {
          "model_module": "@jupyter-widgets/controls",
          "model_name": "HTMLModel",
          "state": {
            "_view_name": "HTMLView",
            "style": "IPY_MODEL_4797841178b74237ba41c0b54c1c6357",
            "_dom_classes": [],
            "description": "",
            "_model_name": "HTMLModel",
            "placeholder": "​",
            "_view_module": "@jupyter-widgets/controls",
            "_model_module_version": "1.5.0",
            "value": " 273/273 [56:49&lt;00:00, 12.49s/it]",
            "_view_count": null,
            "_view_module_version": "1.5.0",
            "description_tooltip": null,
            "_model_module": "@jupyter-widgets/controls",
            "layout": "IPY_MODEL_07edda0f7fe4406b9ba5e82aed1fe84c"
          }
        },
        "185aba93ecaf4cdeadbec8a5421c055c": {
          "model_module": "@jupyter-widgets/controls",
          "model_name": "ProgressStyleModel",
          "state": {
            "_view_name": "StyleView",
            "_model_name": "ProgressStyleModel",
            "description_width": "initial",
            "_view_module": "@jupyter-widgets/base",
            "_model_module_version": "1.5.0",
            "_view_count": null,
            "_view_module_version": "1.2.0",
            "bar_color": null,
            "_model_module": "@jupyter-widgets/controls"
          }
        },
        "bdebcd51120d40b0affa08ff678b55c9": {
          "model_module": "@jupyter-widgets/base",
          "model_name": "LayoutModel",
          "state": {
            "_view_name": "LayoutView",
            "grid_template_rows": null,
            "right": null,
            "justify_content": null,
            "_view_module": "@jupyter-widgets/base",
            "overflow": null,
            "_model_module_version": "1.2.0",
            "_view_count": null,
            "flex_flow": null,
            "width": null,
            "min_width": null,
            "border": null,
            "align_items": null,
            "bottom": null,
            "_model_module": "@jupyter-widgets/base",
            "top": null,
            "grid_column": null,
            "overflow_y": null,
            "overflow_x": null,
            "grid_auto_flow": null,
            "grid_area": null,
            "grid_template_columns": null,
            "flex": null,
            "_model_name": "LayoutModel",
            "justify_items": null,
            "grid_row": null,
            "max_height": null,
            "align_content": null,
            "visibility": null,
            "align_self": null,
            "height": null,
            "min_height": null,
            "padding": null,
            "grid_auto_rows": null,
            "grid_gap": null,
            "max_width": null,
            "order": null,
            "_view_module_version": "1.2.0",
            "grid_template_areas": null,
            "object_position": null,
            "object_fit": null,
            "grid_auto_columns": null,
            "margin": null,
            "display": null,
            "left": null
          }
        },
        "4797841178b74237ba41c0b54c1c6357": {
          "model_module": "@jupyter-widgets/controls",
          "model_name": "DescriptionStyleModel",
          "state": {
            "_view_name": "StyleView",
            "_model_name": "DescriptionStyleModel",
            "description_width": "",
            "_view_module": "@jupyter-widgets/base",
            "_model_module_version": "1.5.0",
            "_view_count": null,
            "_view_module_version": "1.2.0",
            "_model_module": "@jupyter-widgets/controls"
          }
        },
        "07edda0f7fe4406b9ba5e82aed1fe84c": {
          "model_module": "@jupyter-widgets/base",
          "model_name": "LayoutModel",
          "state": {
            "_view_name": "LayoutView",
            "grid_template_rows": null,
            "right": null,
            "justify_content": null,
            "_view_module": "@jupyter-widgets/base",
            "overflow": null,
            "_model_module_version": "1.2.0",
            "_view_count": null,
            "flex_flow": null,
            "width": null,
            "min_width": null,
            "border": null,
            "align_items": null,
            "bottom": null,
            "_model_module": "@jupyter-widgets/base",
            "top": null,
            "grid_column": null,
            "overflow_y": null,
            "overflow_x": null,
            "grid_auto_flow": null,
            "grid_area": null,
            "grid_template_columns": null,
            "flex": null,
            "_model_name": "LayoutModel",
            "justify_items": null,
            "grid_row": null,
            "max_height": null,
            "align_content": null,
            "visibility": null,
            "align_self": null,
            "height": null,
            "min_height": null,
            "padding": null,
            "grid_auto_rows": null,
            "grid_gap": null,
            "max_width": null,
            "order": null,
            "_view_module_version": "1.2.0",
            "grid_template_areas": null,
            "object_position": null,
            "object_fit": null,
            "grid_auto_columns": null,
            "margin": null,
            "display": null,
            "left": null
          }
        }
      }
    },
    "accelerator": "GPU"
  },
  "cells": [
    {
      "cell_type": "markdown",
      "metadata": {
        "id": "hg2Fx9yWV7WA",
        "colab_type": "text"
      },
      "source": [
        "Configurar TASK e baixar"
      ]
    },
    {
      "cell_type": "code",
      "metadata": {
        "id": "0ihCXAY3WFdG",
        "colab_type": "code",
        "colab": {
          "base_uri": "https://localhost:8080/",
          "height": 224
        },
        "outputId": "698e5eca-4bf4-44ea-e891-7d39cc9fd419"
      },
      "source": [
        "!wget http://data.allenai.org.s3.amazonaws.com/downloads/SciTailV1.1.zip\n",
        "!unzip SciTailV1.1.zip\n",
        "\n",
        "TASK = 'scitail_1.0'\n",
        "\n",
        "splits = [\n",
        " f'SciTailV1.1/tsv_format/{TASK}_train.tsv', \n",
        " f'SciTailV1.1/tsv_format/{TASK}_test.tsv',\n",
        " f'SciTailV1.1/tsv_format/{TASK}_dev.tsv',\n",
        "]\n",
        "\n",
        "label_idx = [\n",
        "             0,\n",
        "             1,\n",
        "            ]"
      ],
      "execution_count": 2,
      "outputs": [
        {
          "output_type": "stream",
          "text": [
            "--2020-08-11 21:12:32--  http://data.allenai.org.s3.amazonaws.com/downloads/SciTailV1.1.zip\n",
            "Resolving data.allenai.org.s3.amazonaws.com (data.allenai.org.s3.amazonaws.com)... 52.218.250.19\n",
            "Connecting to data.allenai.org.s3.amazonaws.com (data.allenai.org.s3.amazonaws.com)|52.218.250.19|:80... connected.\n",
            "HTTP request sent, awaiting response... 200 OK\n",
            "Length: 14174621 (14M) [application/zip]\n",
            "Saving to: ‘SciTailV1.1.zip’\n",
            "\n",
            "\rSciTailV1.1.zip       0%[                    ]       0  --.-KB/s               \rSciTailV1.1.zip      78%[==============>     ]  10.55M  52.8MB/s               \rSciTailV1.1.zip     100%[===================>]  13.52M  58.9MB/s    in 0.2s    \n",
            "\n",
            "2020-08-11 21:12:32 (58.9 MB/s) - ‘SciTailV1.1.zip’ saved [14174621/14174621]\n",
            "\n"
          ],
          "name": "stdout"
        }
      ]
    },
    {
      "cell_type": "markdown",
      "metadata": {
        "id": "3ZWqtMqHp8Ay",
        "colab_type": "text"
      },
      "source": [
        "Prepare input"
      ]
    },
    {
      "cell_type": "code",
      "metadata": {
        "id": "MXDB8KpOGwmU",
        "colab_type": "code",
        "colab": {
          "base_uri": "https://localhost:8080/",
          "height": 1000
        },
        "outputId": "267ed692-618e-4ee2-9045-9357e8ad6a38"
      },
      "source": [
        "!pip install transformers --upgrade\n",
        "!pip install mosestokenizer\n",
        "\n",
        "# Translate sentences to English and save mapping dicitionary as json.\n",
        "# Based on https://github.com/ruanchaves/assin/blob/master/sources/translate.py\n",
        "\n",
        "import json\n",
        "import math\n",
        "import os\n",
        "import torch\n",
        "\n",
        "from tqdm.notebook import tqdm\n",
        "from transformers import MarianMTModel, MarianTokenizer\n",
        "\n",
        "model_name = 'Helsinki-NLP/opus-mt-en-ROMANCE'\n",
        "tokenizer = MarianTokenizer.from_pretrained(model_name)\n",
        "model = MarianMTModel.from_pretrained(model_name).to(\"cuda\")\n",
        "\n",
        "def decode(text):\n",
        "    decoded = tokenizer.decode(\n",
        "                    text, \n",
        "                    skip_special_tokens=True,\n",
        "                    )\n",
        "\n",
        "    return decoded\n",
        "\n",
        "def needs_translation(sample, translations):\n",
        "    needs = [text for text in sample if text not in translations.keys()]\n",
        "    \n",
        "    return needs\n",
        "\n",
        "def translation(sample):\n",
        "    src_txts = [f'>>pt_BR<< {text}' for text in sample]\n",
        "\n",
        "    model_inputs = tokenizer.prepare_translation_batch(src_txts).to(\"cuda\")\n",
        "    generated_ids = model.generate(\n",
        "                                    model_inputs.input_ids, \n",
        "                                    attention_mask=model_inputs.attention_mask, \n",
        "                                    num_beams=2\n",
        "                                    )\n",
        "    \n",
        "    translated = [decode(text) for text in generated_ids]\n",
        "\n",
        "    return translated\n",
        "\n",
        "\n",
        "def translate2dict(sentences, dictpath, batch_size):\n",
        "    if not os.path.isfile(dictpath):\n",
        "        with open(dictpath, 'w') as f:\n",
        "            json.dump({}, f)\n",
        "\n",
        "    with open(dictpath) as f:\n",
        "        translations = json.load(f)\n",
        "    \n",
        "    remaining = needs_translation(sentences, translations)\n",
        "    batch = math.ceil(len(remaining)/batch_size)\n",
        "\n",
        "    for idx in tqdm(range(batch), \"Translating\"):\n",
        "        keys = remaining[idx*batch_size:(idx+1)*batch_size] \n",
        "        values = translation(keys)\n",
        "    \n",
        "        new_translations = dict(zip(keys, values))\n",
        "        translations.update(new_translations)\n",
        "        torch.cuda.empty_cache()\n",
        "        with open(dictpath, 'w+') as f:\n",
        "            json.dump(translations, f)\n",
        "\n",
        "from pprint import pprint\n",
        "import pandas as pd\n",
        "import os\n",
        "\n",
        "sentences = list()\n",
        "length = 0\n",
        "\n",
        "for f in splits:\n",
        "    table = pd.read_csv(f, sep='\\t', error_bad_lines=False, header=None)\n",
        "    print(f) \n",
        "    #print(table.head())\n",
        "    #print('\\n'*3)\n",
        "    \n",
        "    for idx in label_idx:\n",
        "        label = table[idx].copy()\n",
        "        print(label)\n",
        "        print('\\n'*2)\n",
        "\n",
        "        sentences.extend(list(label))\n",
        "        length = length + label.size\n",
        "        \n",
        "\n",
        "\n",
        "assert length == len(sentences)\n",
        "sentences = set(sentences)"
      ],
      "execution_count": 8,
      "outputs": [
        {
          "output_type": "stream",
          "text": [
            "Requirement already up-to-date: transformers in /usr/local/lib/python3.6/dist-packages (3.0.2)\n",
            "Requirement already satisfied, skipping upgrade: sentencepiece!=0.1.92 in /usr/local/lib/python3.6/dist-packages (from transformers) (0.1.91)\n",
            "Requirement already satisfied, skipping upgrade: tokenizers==0.8.1.rc1 in /usr/local/lib/python3.6/dist-packages (from transformers) (0.8.1rc1)\n",
            "Requirement already satisfied, skipping upgrade: numpy in /usr/local/lib/python3.6/dist-packages (from transformers) (1.18.5)\n",
            "Requirement already satisfied, skipping upgrade: dataclasses; python_version < \"3.7\" in /usr/local/lib/python3.6/dist-packages (from transformers) (0.7)\n",
            "Requirement already satisfied, skipping upgrade: packaging in /usr/local/lib/python3.6/dist-packages (from transformers) (20.4)\n",
            "Requirement already satisfied, skipping upgrade: filelock in /usr/local/lib/python3.6/dist-packages (from transformers) (3.0.12)\n",
            "Requirement already satisfied, skipping upgrade: regex!=2019.12.17 in /usr/local/lib/python3.6/dist-packages (from transformers) (2019.12.20)\n",
            "Requirement already satisfied, skipping upgrade: sacremoses in /usr/local/lib/python3.6/dist-packages (from transformers) (0.0.43)\n",
            "Requirement already satisfied, skipping upgrade: requests in /usr/local/lib/python3.6/dist-packages (from transformers) (2.23.0)\n",
            "Requirement already satisfied, skipping upgrade: tqdm>=4.27 in /usr/local/lib/python3.6/dist-packages (from transformers) (4.41.1)\n",
            "Requirement already satisfied, skipping upgrade: pyparsing>=2.0.2 in /usr/local/lib/python3.6/dist-packages (from packaging->transformers) (2.4.7)\n",
            "Requirement already satisfied, skipping upgrade: six in /usr/local/lib/python3.6/dist-packages (from packaging->transformers) (1.15.0)\n",
            "Requirement already satisfied, skipping upgrade: joblib in /usr/local/lib/python3.6/dist-packages (from sacremoses->transformers) (0.16.0)\n",
            "Requirement already satisfied, skipping upgrade: click in /usr/local/lib/python3.6/dist-packages (from sacremoses->transformers) (7.1.2)\n",
            "Requirement already satisfied, skipping upgrade: chardet<4,>=3.0.2 in /usr/local/lib/python3.6/dist-packages (from requests->transformers) (3.0.4)\n",
            "Requirement already satisfied, skipping upgrade: idna<3,>=2.5 in /usr/local/lib/python3.6/dist-packages (from requests->transformers) (2.10)\n",
            "Requirement already satisfied, skipping upgrade: certifi>=2017.4.17 in /usr/local/lib/python3.6/dist-packages (from requests->transformers) (2020.6.20)\n",
            "Requirement already satisfied, skipping upgrade: urllib3!=1.25.0,!=1.25.1,<1.26,>=1.21.1 in /usr/local/lib/python3.6/dist-packages (from requests->transformers) (1.24.3)\n",
            "Requirement already satisfied: mosestokenizer in /usr/local/lib/python3.6/dist-packages (1.1.0)\n",
            "Requirement already satisfied: openfile in /usr/local/lib/python3.6/dist-packages (from mosestokenizer) (0.0.7)\n",
            "Requirement already satisfied: toolwrapper in /usr/local/lib/python3.6/dist-packages (from mosestokenizer) (2.1.0)\n",
            "Requirement already satisfied: docopt in /usr/local/lib/python3.6/dist-packages (from mosestokenizer) (0.6.2)\n",
            "Requirement already satisfied: uctools in /usr/local/lib/python3.6/dist-packages (from mosestokenizer) (1.3.0)\n",
            "SciTailV1.1/tsv_format/scitail_1.0_train.tsv\n",
            "0        Pluto rotates once on its axis every 6.39 Eart...\n",
            "1        ---Glenn =====================================...\n",
            "2        geysers - periodic gush of hot water at the su...\n",
            "3        Facts: Liquid water droplets can be changed in...\n",
            "4        By comparison, the earth rotates on its axis o...\n",
            "                               ...                        \n",
            "23092    which is not only the motion of our bodies, bu...\n",
            "23093    The Red Star, that celestial curse whose eccen...\n",
            "23094    The lines in the spectrum of a luminous body s...\n",
            "23095    The radial velocity of a star away from or tow...\n",
            "23096    This expansion causes the light from distant s...\n",
            "Name: 0, Length: 23097, dtype: object\n",
            "\n",
            "\n",
            "\n",
            "0         Earth rotates on its axis once times in one day.\n",
            "1         Earth rotates on its axis once times in one day.\n",
            "2        The surface of the sun is much hotter than alm...\n",
            "3        Evaporation is responsible for changing liquid...\n",
            "4         Earth rotates on its axis once times in one day.\n",
            "                               ...                        \n",
            "23092    Work is done only if a force is exerted in the...\n",
            "23093    Red-shift refers to a shift toward red in the ...\n",
            "23094    Red-shift refers to a shift toward red in the ...\n",
            "23095    Red-shift refers to a shift toward red in the ...\n",
            "23096    Red-shift refers to a shift toward red in the ...\n",
            "Name: 1, Length: 23097, dtype: object\n",
            "\n",
            "\n",
            "\n",
            "SciTailV1.1/tsv_format/scitail_1.0_test.tsv\n",
            "0       Based on the list provided of the uses of subs...\n",
            "1       If one or two            base pairs are change...\n",
            "2       At high temperatures, the solid dye converts i...\n",
            "3                     Chapter 11 Gas and Kinetic Theory .\n",
            "4       Both the continental crust and the oceanic cru...\n",
            "                              ...                        \n",
            "2121    In addition, the small pieces of prairie mean ...\n",
            "2122    D structures will help scientists determine be...\n",
            "2123    Of particular relevance is the role of terrest...\n",
            "2124    A new public gazebo at the water's edge is one...\n",
            "2125    Inorganic, Bioinorganic, and Organometallic Ch...\n",
            "Name: 0, Length: 2126, dtype: object\n",
            "\n",
            "\n",
            "\n",
            "0       If a substance has a ph value greater than 7,t...\n",
            "1       Invertebrates (and higher animals) can also be...\n",
            "2       Gases and liquids become solids at low tempera...\n",
            "3       The behavior of ideal gases is explained by ki...\n",
            "4       Gabbro is a dark dense rock that can be found ...\n",
            "                              ...                        \n",
            "2121    A fewer predators is most likely to cause the ...\n",
            "2122    Studies of earthquake waves have helped scient...\n",
            "2123    A primary role of decomposers in an ecosystem ...\n",
            "2124                      One example of matter is water.\n",
            "2125    Elements on the periodic table of the elements...\n",
            "Name: 1, Length: 2126, dtype: object\n",
            "\n",
            "\n",
            "\n",
            "SciTailV1.1/tsv_format/scitail_1.0_dev.tsv\n",
            "0       An introduction to atoms and elements, compoun...\n",
            "1       Wavelength The distance between two consecutiv...\n",
            "2           humans normally have 23 pairs of chromosomes.\n",
            "3       Photosynthesis, fermentation, glycolysis, aero...\n",
            "4       The pungent smell of the yellow, toffee colore...\n",
            "                              ...                        \n",
            "1299    The Web has several good sites giving details ...\n",
            "1300    Since the amount of time we (usually) spend pr...\n",
            "1301    Tides Lunar Eclipses Activities, Web Links LUN...\n",
            "1302    Lunar Eclipses A lunar eclipse occurs when the...\n",
            "1303    A lunar eclipse occurs when the Moon passes th...\n",
            "Name: 0, Length: 1304, dtype: object\n",
            "\n",
            "\n",
            "\n",
            "0       Replace another in a molecule happens to atoms...\n",
            "1       Wavelength is the distance between two corresp...\n",
            "2       Humans typically have 23 pairs pairs of chromo...\n",
            "3       Glycolysis is a series of reactions that is co...\n",
            "4       If a substance does not release molecules into...\n",
            "                              ...                        \n",
            "1299    Only the sun in our solar system give off thei...\n",
            "1300    This process usually takes the longest amount ...\n",
            "1301    When earth’s shadow falls on the moon, the sha...\n",
            "1302    When earth’s shadow falls on the moon, the sha...\n",
            "1303    When earth’s shadow falls on the moon, the sha...\n",
            "Name: 1, Length: 1304, dtype: object\n",
            "\n",
            "\n",
            "\n"
          ],
          "name": "stdout"
        }
      ]
    },
    {
      "cell_type": "markdown",
      "metadata": {
        "id": "_peRvDIlvRjY",
        "colab_type": "text"
      },
      "source": [
        "Translate"
      ]
    },
    {
      "cell_type": "code",
      "metadata": {
        "id": "3duX01qTvRTX",
        "colab_type": "code",
        "colab": {
          "base_uri": "https://localhost:8080/",
          "height": 66,
          "referenced_widgets": [
            "773d0caf2ee64f8681a8332346ddf2e8",
            "9c22a7e465234f2584b4f12cad11daaf",
            "1e2ff77ee8bc4ef0bef6e0d62379adc7",
            "9ecac0284d544fc2a461a735a0e8394b",
            "185aba93ecaf4cdeadbec8a5421c055c",
            "bdebcd51120d40b0affa08ff678b55c9",
            "4797841178b74237ba41c0b54c1c6357",
            "07edda0f7fe4406b9ba5e82aed1fe84c"
          ]
        },
        "outputId": "4c8b97c0-9ae8-4963-e134-7475909ebef6"
      },
      "source": [
        "dictpath = f'{TASK}.json'\n",
        "translate2dict(list(sentences),  dictpath, 100)"
      ],
      "execution_count": 9,
      "outputs": [
        {
          "output_type": "display_data",
          "data": {
            "application/vnd.jupyter.widget-view+json": {
              "model_id": "773d0caf2ee64f8681a8332346ddf2e8",
              "version_minor": 0,
              "version_major": 2
            },
            "text/plain": [
              "HBox(children=(FloatProgress(value=0.0, description='Translating', max=273.0, style=ProgressStyle(description_…"
            ]
          },
          "metadata": {
            "tags": []
          }
        },
        {
          "output_type": "stream",
          "text": [
            "\n"
          ],
          "name": "stdout"
        }
      ]
    },
    {
      "cell_type": "markdown",
      "metadata": {
        "id": "twDojDjd9q1t",
        "colab_type": "text"
      },
      "source": [
        "Replace with translation"
      ]
    },
    {
      "cell_type": "code",
      "metadata": {
        "id": "7GfKT7sj9rMK",
        "colab_type": "code",
        "colab": {}
      },
      "source": [
        "from os import makedirs\n",
        "import json\n",
        "\n",
        "with open(dictpath) as reader:\n",
        "    dictionary = json.load(reader)\n",
        "\n",
        "translation_folder = 'translation/SciTailV1.1/tsv_format/'\n",
        "makedirs(translation_folder)\n",
        "for f in splits:\n",
        "    table = pd.read_csv(f, sep='\\t', header=None, error_bad_lines=False)\n",
        "    for idx in label_idx:\n",
        "        table[idx] = table[idx].map(dictionary)\n",
        "    table.to_csv(f'translation/{f}', index=None, header=None, sep='\\t')"
      ],
      "execution_count": 12,
      "outputs": []
    }
  ]
}
