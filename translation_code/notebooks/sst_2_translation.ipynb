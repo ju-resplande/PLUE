{
  "nbformat": 4,
  "nbformat_minor": 0,
  "metadata": {
    "colab": {
      "name": "sst-2_translation.ipynb",
      "provenance": [],
      "collapsed_sections": []
    },
    "kernelspec": {
      "name": "python3",
      "display_name": "Python 3"
    }
  },
  "cells": [
    {
      "cell_type": "markdown",
      "metadata": {
        "id": "0vrEgazEq4ZS",
        "colab_type": "text"
      },
      "source": [
        "Upload files to colab"
      ]
    },
    {
      "cell_type": "markdown",
      "metadata": {
        "id": "6Ql8VzYTp2ab",
        "colab_type": "text"
      },
      "source": [
        "Translation function"
      ]
    },
    {
      "cell_type": "code",
      "metadata": {
        "id": "rnZa51p6oV3K",
        "colab_type": "code",
        "colab": {}
      },
      "source": [
        "#!/usr/bin/env python\n",
        "# coding: utf-8\n",
        "\n",
        "# Translate sentences to English and save mapping dicitionary as json.\n",
        "\n",
        "# Based on https://github.com/ruanchaves/assin/blob/master/sources/translate.py\n",
        "\n",
        "# Parameters:\n",
        "# *   sentences =\n",
        "# *   dictpath =  json dictionary file mapping original sentence with translation\n",
        "# \n",
        "# \n",
        "\n",
        "# In[ ]:\n",
        "\n",
        "\n",
        "from google.cloud import translate_v2 as translate\n",
        "from os.path import isfile\n",
        "from os import environ\n",
        "import six\n",
        "import json\n",
        "\n",
        "def translate2dict(sentences, dictpath):\n",
        "    environ['GOOGLE_APPLICATION_CREDENTIALS'] = './key.json'\n",
        "    translate_client = translate.Client()\n",
        "\n",
        "    def translation(text):\n",
        "        if isinstance(text, six.binary_type):\n",
        "            text = text.decode('utf-8')\n",
        "        result = translate_client.translate(text,'pt-br')\n",
        "\n",
        "        return result['translatedText']\n",
        "\n",
        "    if not isfile(dictpath):\n",
        "        with open(dictpath, 'w') as f:\n",
        "            json.dump({}, f)\n",
        "\n",
        "    for item in sentences:\n",
        "        with open(dictpath) as f:\n",
        "            translations = json.load(f)\n",
        "        \n",
        "        try:\n",
        "            translations[item]\n",
        "        except KeyError:\n",
        "            translations[item] = translation(item)\n",
        "            \n",
        "            with open(dictpath, 'w+') as f:\n",
        "                json.dump(translations, f)"
      ],
      "execution_count": 0,
      "outputs": []
    },
    {
      "cell_type": "markdown",
      "metadata": {
        "id": "3ZWqtMqHp8Ay",
        "colab_type": "text"
      },
      "source": [
        "Prepare input"
      ]
    },
    {
      "cell_type": "code",
      "metadata": {
        "id": "FI_iOFcnoFXt",
        "colab_type": "code",
        "outputId": "405cd652-6ee0-4f42-fbeb-1961d6dc50b3",
        "colab": {
          "base_uri": "https://localhost:8080/",
          "height": 833
        }
      },
      "source": [
        "from pprint import pprint\n",
        "import pandas as pd\n",
        "import os\n",
        "\n",
        "sentences = list()\n",
        "label_idx = [\n",
        "             'sentence',\n",
        "            ]\n",
        "length = 0\n",
        "\n",
        "for f in ['train.tsv', 'test.tsv', 'dev.tsv']:\n",
        "    table = pd.read_csv(f, sep = '\\t', quoting=3)\n",
        "    print(f) \n",
        "    #print(table.head())\n",
        "    #print('\\n'*3)\n",
        "    \n",
        "    for idx in label_idx:\n",
        "        label = table[idx].copy()\n",
        "        print(label)\n",
        "        print('\\n'*2)\n",
        "\n",
        "        sentences.extend(list(label))\n",
        "        length = length + label.size\n",
        "\n",
        "\n",
        "assert length == len(sentences)\n",
        "sentences = set(sentences)"
      ],
      "execution_count": 22,
      "outputs": [
        {
          "output_type": "stream",
          "text": [
            "train.tsv\n",
            "0             hide new secretions from the parental units \n",
            "1                     contains no wit , only labored gags \n",
            "2        that loves its characters and communicates som...\n",
            "3        remains utterly satisfied to remain the same t...\n",
            "4        on the worst revenge-of-the-nerds clichés the ...\n",
            "                               ...                        \n",
            "67344                                 a delightful comedy \n",
            "67345                     anguish , anger and frustration \n",
            "67346    at achieving the modest , crowd-pleasing goals...\n",
            "67347                                    a patient viewer \n",
            "67348    this new jangle of noise , mayhem and stupidit...\n",
            "Name: sentence, Length: 67349, dtype: object\n",
            "\n",
            "\n",
            "\n",
            "test.tsv\n",
            "0                  uneasy mishmash of styles and genres .\n",
            "1       this film 's relationship to actual tension is...\n",
            "2       by the end of no such thing the audience , lik...\n",
            "3       director rob marshall went out gunning to make...\n",
            "4       lathan and diggs have considerable personal ch...\n",
            "                              ...                        \n",
            "1816    it risks seeming slow and pretentious , becaus...\n",
            "1817    take care of my cat offers a refreshingly diff...\n",
            "1818    davis has filled out his cast with appealing f...\n",
            "1819    it represents better-than-average movie-making...\n",
            "1820    dazzling and sugar-sweet , a blast of shallow ...\n",
            "Name: sentence, Length: 1821, dtype: object\n",
            "\n",
            "\n",
            "\n",
            "dev.tsv\n",
            "0        it 's a charming and often affecting journey . \n",
            "1                     unflinchingly bleak and desperate \n",
            "2      allows us to hope that nolan is poised to emba...\n",
            "3      the acting , costumes , music , cinematography...\n",
            "4                      it 's slow -- very , very slow . \n",
            "                             ...                        \n",
            "867                has all the depth of a wading pool . \n",
            "868                a movie with a real anarchic flair . \n",
            "869    a subject like this should inspire reaction in...\n",
            "870    ... is an arthritic attempt at directing by ca...\n",
            "871    looking aristocratic , luminous yet careworn i...\n",
            "Name: sentence, Length: 872, dtype: object\n",
            "\n",
            "\n",
            "\n"
          ],
          "name": "stdout"
        }
      ]
    },
    {
      "cell_type": "code",
      "metadata": {
        "id": "sy1sEXziunRU",
        "colab_type": "code",
        "colab": {}
      },
      "source": [
        "# erro 'artificial suspense '\n",
        "#'suspense artificial'\n",
        "#sentences.remove('artificial suspense ')\n",
        "\n",
        "#erro 'portuguese master manoel de oliviera '\n",
        "#'mestre português manoel de oliviera'\n",
        "#sentences.remove('portuguese master manoel de oliviera ')\n",
        "\n",
        "#erro  'pedro '\n",
        "#'pedro '\n",
        "#sentences.remove('pedro ')\n",
        "\n",
        "#erro 'alexandre '\n",
        "#'alexandre '\n",
        "#sentences.remove('alexandre ')\n",
        "\n",
        "#erro 'superficial humor '\n",
        "#'humor superficial'\n",
        "#sentences.remove('superficial humor ')\n",
        "\n",
        "#erro 'café '\n",
        "#'café '\n",
        "#sentences.remove('café ')\n",
        "\n",
        "#erro 'a marvel '\n",
        "#'uma maravilha'\n",
        "#sentences.remove('a marvel ')\n",
        "\n",
        "#erro 'wheezy '\n",
        "#'chiado'\n",
        "#sentences.remove('wheezy ')"
      ],
      "execution_count": 0,
      "outputs": []
    },
    {
      "cell_type": "code",
      "metadata": {
        "id": "IcyUIYuc0UB2",
        "colab_type": "code",
        "colab": {}
      },
      "source": [
        "import json\n",
        "with open('sst-2.json') as reader:\n",
        "    translation = json.load(reader)\n",
        "\n",
        "translation['artificial suspense '] = 'artificial suspense '\n",
        "translation['portuguese master manoel de oliviera '] = 'portuguese master manoel de oliviera '\n",
        "translation['pedro '] = 'pedro '\n",
        "translation['alexandre '] = 'alexandre '\n",
        "translation['superficial humor '] = 'humor superficial'\n",
        "translation['café '] =  'café '\n",
        "translation['a marvel '] = 'uma maravilha'\n",
        "translation['wheezy '] = 'chiado'\n",
        "\n",
        "with open('sst-2.json', 'w') as writer:\n",
        "    json.dump(translation, writer)"
      ],
      "execution_count": 0,
      "outputs": []
    },
    {
      "cell_type": "markdown",
      "metadata": {
        "id": "_peRvDIlvRjY",
        "colab_type": "text"
      },
      "source": [
        "Translate"
      ]
    },
    {
      "cell_type": "code",
      "metadata": {
        "id": "3duX01qTvRTX",
        "colab_type": "code",
        "colab": {}
      },
      "source": [
        "translate2dict(sentences,  'sst-2.json')"
      ],
      "execution_count": 0,
      "outputs": []
    },
    {
      "cell_type": "markdown",
      "metadata": {
        "id": "twDojDjd9q1t",
        "colab_type": "text"
      },
      "source": [
        "Replace with translation"
      ]
    },
    {
      "cell_type": "code",
      "metadata": {
        "id": "7GfKT7sj9rMK",
        "colab_type": "code",
        "colab": {}
      },
      "source": [
        "from os import mkdir\n",
        "import json\n",
        "\n",
        "with open('sst-2.json') as reader:\n",
        "    dictionary = json.load(reader)\n",
        "\n",
        "mkdir('translation')\n",
        "for f in ['train.tsv', 'test.tsv', 'dev.tsv']:\n",
        "    table = pd.read_csv(f, sep = '\\t', quoting=3)\n",
        "    for idx in label_idx:\n",
        "        table[idx] = table[idx].map(dictionary)\n",
        "    table.to_csv(f'translation/{f}', index = None, sep = '\\t')"
      ],
      "execution_count": 0,
      "outputs": []
    }
  ]
}