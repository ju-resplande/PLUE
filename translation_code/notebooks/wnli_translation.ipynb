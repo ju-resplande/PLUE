{
  "nbformat": 4,
  "nbformat_minor": 0,
  "metadata": {
    "colab": {
      "name": "wnli_translation.ipynb",
      "provenance": [],
      "collapsed_sections": []
    },
    "kernelspec": {
      "name": "python3",
      "display_name": "Python 3"
    }
  },
  "cells": [
    {
      "cell_type": "markdown",
      "metadata": {
        "id": "0vrEgazEq4ZS",
        "colab_type": "text"
      },
      "source": [
        "Upload files to colab"
      ]
    },
    {
      "cell_type": "markdown",
      "metadata": {
        "id": "6Ql8VzYTp2ab",
        "colab_type": "text"
      },
      "source": [
        "Translation function"
      ]
    },
    {
      "cell_type": "code",
      "metadata": {
        "id": "rnZa51p6oV3K",
        "colab_type": "code",
        "colab": {}
      },
      "source": [
        "#!/usr/bin/env python\n",
        "# coding: utf-8\n",
        "\n",
        "# Translate sentences to English and save mapping dicitionary as json.\n",
        "\n",
        "# Based on https://github.com/ruanchaves/assin/blob/master/sources/translate.py\n",
        "\n",
        "# Parameters:\n",
        "# *   sentences =\n",
        "# *   dictpath =  json dictionary file mapping original sentence with translation\n",
        "# \n",
        "# \n",
        "\n",
        "# In[ ]:\n",
        "\n",
        "\n",
        "from google.cloud import translate_v2 as translate\n",
        "from os.path import isfile\n",
        "from os import environ\n",
        "import six\n",
        "import json\n",
        "\n",
        "def translate2dict(sentences, dictpath):\n",
        "    environ['GOOGLE_APPLICATION_CREDENTIALS'] = './key.json'\n",
        "    translate_client = translate.Client()\n",
        "\n",
        "    def translation(text):\n",
        "        if isinstance(text, six.binary_type):\n",
        "            text = text.decode('utf-8')\n",
        "        result = translate_client.translate(text,'pt-br')\n",
        "\n",
        "        return result['translatedText']\n",
        "\n",
        "    if not isfile(dictpath):\n",
        "        with open(dictpath, 'w') as f:\n",
        "            json.dump({}, f)\n",
        "\n",
        "    for item in sentences:\n",
        "        with open(dictpath) as f:\n",
        "            translations = json.load(f)\n",
        "        \n",
        "        if item not in translations.keys():\n",
        "            translations[item] = translation(item)\n",
        "            \n",
        "            with open(dictpath, 'w+') as f:\n",
        "                json.dump(translations, f)"
      ],
      "execution_count": 0,
      "outputs": []
    },
    {
      "cell_type": "markdown",
      "metadata": {
        "id": "3ZWqtMqHp8Ay",
        "colab_type": "text"
      },
      "source": [
        "Prepare input"
      ]
    },
    {
      "cell_type": "code",
      "metadata": {
        "id": "FI_iOFcnoFXt",
        "colab_type": "code",
        "outputId": "6648925c-3e0e-4992-eda5-c8cb24f2a95e",
        "colab": {
          "base_uri": "https://localhost:8080/",
          "height": 1000
        }
      },
      "source": [
        "from pprint import pprint\n",
        "import pandas as pd\n",
        "import os\n",
        "\n",
        "sentences = list()\n",
        "label_idx = [\n",
        "             'sentence1',\n",
        "             'sentence2',\n",
        "            ]\n",
        "length = 0\n",
        "\n",
        "for f in ['train.tsv', 'test.tsv', 'dev.tsv']:\n",
        "    table = pd.read_csv(f, sep = '\\t', quoting=3)\n",
        "    print(f) \n",
        "    #print(table.head())\n",
        "    #print('\\n'*3)\n",
        "    \n",
        "    for idx in label_idx:\n",
        "        label = table[idx].copy()\n",
        "        print(label)\n",
        "        print('\\n'*2)\n",
        "\n",
        "        sentences.extend(list(label))\n",
        "        length = length + label.size\n",
        "\n",
        "\n",
        "assert length == len(sentences)\n",
        "sentences = set(sentences)"
      ],
      "execution_count": 2,
      "outputs": [
        {
          "output_type": "stream",
          "text": [
            "train.tsv\n",
            "0      I stuck a pin through a carrot. When I pulled ...\n",
            "1      John couldn't see the stage with Billy in fron...\n",
            "2      The police arrested all of the gang members. T...\n",
            "3      Steve follows Fred's example in everything. He...\n",
            "4      When Tatyana reached the cabin, her mother was...\n",
            "                             ...                        \n",
            "630    When Tommy dropped his ice cream, Timmy giggle...\n",
            "631    Mark told Pete many lies about himself, which ...\n",
            "632     Tom said \"Check\" to Ralph as he took his bishop.\n",
            "633    Emma's mother had died long ago, and her place...\n",
            "634    Although they ran at about the same speed, Sue...\n",
            "Name: sentence1, Length: 635, dtype: object\n",
            "\n",
            "\n",
            "\n",
            "0                                 The carrot had a hole.\n",
            "1                                      John is so short.\n",
            "2      The police were trying to stop the drug trade ...\n",
            "3                           Steve influences him hugely.\n",
            "4      mother was careful not to disturb her, undress...\n",
            "                             ...                        \n",
            "630                Father gave Timmy a sympathetic look.\n",
            "631                Pete should have been more skeptical.\n",
            "632    Tom said \"Check\" to Ralph as he took Tom's bis...\n",
            "633    Emma's mother's place had been taken by an exc...\n",
            "634                          Sally had such a bad start.\n",
            "Name: sentence2, Length: 635, dtype: object\n",
            "\n",
            "\n",
            "\n",
            "test.tsv\n",
            "0      Maude and Dora had seen the trains rushing acr...\n",
            "1      Maude and Dora had seen the trains rushing acr...\n",
            "2      Maude and Dora had seen the trains rushing acr...\n",
            "3      Maude and Dora had seen the trains rushing acr...\n",
            "4      Maude and Dora had seen the trains rushing acr...\n",
            "                             ...                        \n",
            "141    Muriel has in her living room a famous paintin...\n",
            "142    Muriel has in her living room a famous paintin...\n",
            "143    Muriel has in her living room a famous paintin...\n",
            "144    Edward dropped adhesive tape onto his window s...\n",
            "145    Edward dropped adhesive tape onto his window s...\n",
            "Name: sentence1, Length: 146, dtype: object\n",
            "\n",
            "\n",
            "\n",
            "0      Horses ran away when Maude and Dora came in si...\n",
            "1         Horses ran away when the trains came in sight.\n",
            "2          Horses ran away when the puffs came in sight.\n",
            "3          Horses ran away when the roars came in sight.\n",
            "4       Horses ran away when the whistles came in sight.\n",
            "                             ...                        \n",
            "141    It is very characteristic of Muriel's later wo...\n",
            "142    It is very characteristic of Theresa Rubio's l...\n",
            "143    It is very characteristic of Cecile d'Arblay's...\n",
            "144              Some of the glue was stuck on the tape.\n",
            "145       Some of the glue was stuck on the window sill.\n",
            "Name: sentence2, Length: 146, dtype: object\n",
            "\n",
            "\n",
            "\n",
            "dev.tsv\n",
            "0     The drain is clogged with hair. It has to be c...\n",
            "1     Jane knocked on Susan's door but she did not a...\n",
            "2     Beth didn't get angry with Sally, who had cut ...\n",
            "3     No one joins Facebook to be sad and lonely. Bu...\n",
            "4     The man couldn't lift his son because he was s...\n",
            "                            ...                        \n",
            "66    I poured water from the bottle into the cup un...\n",
            "67    Alice looked for her friend Jade in the crowd....\n",
            "68    The dog chased the cat, which ran up a tree. I...\n",
            "69    It was a summer afternoon, and the dog was sit...\n",
            "70    George got free tickets to the play, but he ga...\n",
            "Name: sentence1, Length: 71, dtype: object\n",
            "\n",
            "\n",
            "\n",
            "0                           The hair has to be cleaned.\n",
            "1                                 Susan did not answer.\n",
            "2                     Sally stopped and counted to ten.\n",
            "3            That's exactly how Facebook makes us feel.\n",
            "4                                 The son was so heavy.\n",
            "                            ...                        \n",
            "66                                The bottle was empty.\n",
            "67    Since Alice always wears a red turban, Alice s...\n",
            "68                           The cat waited at the top.\n",
            "69                     The spot under the tree was hot.\n",
            "70           Eric was not particularly eager to see it.\n",
            "Name: sentence2, Length: 71, dtype: object\n",
            "\n",
            "\n",
            "\n"
          ],
          "name": "stdout"
        }
      ]
    },
    {
      "cell_type": "markdown",
      "metadata": {
        "id": "_peRvDIlvRjY",
        "colab_type": "text"
      },
      "source": [
        "Translate"
      ]
    },
    {
      "cell_type": "code",
      "metadata": {
        "id": "3duX01qTvRTX",
        "colab_type": "code",
        "colab": {}
      },
      "source": [
        "translate2dict(sentences,  'wnli.json')"
      ],
      "execution_count": 0,
      "outputs": []
    },
    {
      "cell_type": "markdown",
      "metadata": {
        "id": "twDojDjd9q1t",
        "colab_type": "text"
      },
      "source": [
        "Replace with translation"
      ]
    },
    {
      "cell_type": "code",
      "metadata": {
        "id": "7GfKT7sj9rMK",
        "colab_type": "code",
        "colab": {}
      },
      "source": [
        "from os import mkdir\n",
        "import json\n",
        "\n",
        "with open('wnli.json') as reader:\n",
        "    dictionary = json.load(reader)\n",
        "\n",
        "mkdir('translation')\n",
        "for f in ['train.tsv', 'test.tsv', 'dev.tsv']:\n",
        "    table = pd.read_csv(f, sep = '\\t', quoting=3)\n",
        "    for idx in label_idx:\n",
        "        table[idx] = table[idx].map(dictionary)\n",
        "    table.to_csv(f'translation/{f}', index = None, sep = '\\t')"
      ],
      "execution_count": 0,
      "outputs": []
    }
  ]
}