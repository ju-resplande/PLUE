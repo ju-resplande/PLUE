{
  "nbformat": 4,
  "nbformat_minor": 0,
  "metadata": {
    "colab": {
      "name": "cola_translation.ipynb",
      "provenance": [],
      "collapsed_sections": []
    },
    "kernelspec": {
      "name": "python3",
      "display_name": "Python 3"
    }
  },
  "cells": [
    {
      "cell_type": "markdown",
      "metadata": {
        "id": "0vrEgazEq4ZS",
        "colab_type": "text"
      },
      "source": [
        "Upload files to colab"
      ]
    },
    {
      "cell_type": "markdown",
      "metadata": {
        "id": "6Ql8VzYTp2ab",
        "colab_type": "text"
      },
      "source": [
        "Translation function"
      ]
    },
    {
      "cell_type": "code",
      "metadata": {
        "id": "rnZa51p6oV3K",
        "colab_type": "code",
        "colab": {}
      },
      "source": [
        "#!/usr/bin/env python\n",
        "# coding: utf-8\n",
        "\n",
        "# Translate sentences to English and save mapping dicitionary as json.\n",
        "\n",
        "# Based on https://github.com/ruanchaves/assin/blob/master/sources/translate.py\n",
        "\n",
        "# Parameters:\n",
        "# *   sentences =\n",
        "# *   dictpath =  json dictionary file mapping original sentence with translation\n",
        "# \n",
        "# \n",
        "\n",
        "# In[ ]:\n",
        "\n",
        "\n",
        "from google.cloud import translate_v2 as translate\n",
        "from os.path import isfile\n",
        "from os import environ\n",
        "import six\n",
        "import json\n",
        "\n",
        "def translate2dict(sentences, dictpath):\n",
        "    environ['GOOGLE_APPLICATION_CREDENTIALS'] = './key.json'\n",
        "    translate_client = translate.Client()\n",
        "\n",
        "    def translation(text):\n",
        "        if isinstance(text, six.binary_type):\n",
        "            text = text.decode('utf-8')\n",
        "        result = translate_client.translate(text,'pt-br')\n",
        "\n",
        "        return result['translatedText']\n",
        "\n",
        "    if not isfile(dictpath):\n",
        "        with open(dictpath, 'w') as f:\n",
        "            json.dump({}, f)\n",
        "\n",
        "    for item in sentences:\n",
        "        with open(dictpath) as f:\n",
        "            translations = json.load(f)\n",
        "        \n",
        "        try:\n",
        "            translations[item]\n",
        "        except KeyError:\n",
        "            translations[item] = translation(item)\n",
        "            \n",
        "            with open(dictpath, 'w+') as f:\n",
        "                json.dump(translations, f)"
      ],
      "execution_count": 0,
      "outputs": []
    },
    {
      "cell_type": "markdown",
      "metadata": {
        "id": "3ZWqtMqHp8Ay",
        "colab_type": "text"
      },
      "source": [
        "Prepare input"
      ]
    },
    {
      "cell_type": "code",
      "metadata": {
        "id": "FI_iOFcnoFXt",
        "colab_type": "code",
        "colab": {}
      },
      "source": [
        "from pprint import pprint\n",
        "import pandas as pd\n",
        "import os\n",
        "\n",
        "sentences = list()\n",
        "label_idx = 3\n",
        "length = 0\n",
        "\n",
        "mkdir('translation')\n",
        "for f in ['dev.tsv', 'train.tsv']:\n",
        "    table = pd.read_csv(f, header = None, sep = '\\t')\n",
        "    #print(f) \n",
        "    #print(table.head())\n",
        "    #print('\\n'*3)\n",
        "    \n",
        "    label = table[label_idx].copy()\n",
        "    #print(label)\n",
        "    #print('\\n'*5)\n",
        "\n",
        "    sentences.extend(list(label))\n",
        "    #pprint(sentences)\n",
        "\n",
        "    length = length + label.size\n",
        "\n",
        "label_idx = 'sentence'    \n",
        "f = 'test.tsv'\n",
        "table = pd.read_csv(f, sep = '\\t')\n",
        "#print(f) \n",
        "#print(table.head())\n",
        "#print('\\n'*3)\n",
        "\n",
        "label = table[label_idx].copy()\n",
        "#print(label)\n",
        "#print('\\n'*5)\n",
        "\n",
        "sentences.extend(list(label))\n",
        "#pprint(sentences)\n",
        "length = length + label.size\n",
        "\n",
        "assert length == len(sentences)\n",
        "sentences = set(sentences)"
      ],
      "execution_count": 0,
      "outputs": []
    },
    {
      "cell_type": "markdown",
      "metadata": {
        "id": "_peRvDIlvRjY",
        "colab_type": "text"
      },
      "source": [
        "Translate"
      ]
    },
    {
      "cell_type": "code",
      "metadata": {
        "id": "3duX01qTvRTX",
        "colab_type": "code",
        "colab": {}
      },
      "source": [
        "translate2dict(sentences,  'cola.json')"
      ],
      "execution_count": 0,
      "outputs": []
    },
    {
      "cell_type": "markdown",
      "metadata": {
        "id": "twDojDjd9q1t",
        "colab_type": "text"
      },
      "source": [
        "Replace with translation"
      ]
    },
    {
      "cell_type": "code",
      "metadata": {
        "id": "7GfKT7sj9rMK",
        "colab_type": "code",
        "colab": {}
      },
      "source": [
        "from os import mkdir\n",
        "from pprint import pprint\n",
        "import json\n",
        "\n",
        "with open('cola.json') as reader:\n",
        "    dictionary = json.load(reader)\n",
        "\n",
        "pprint(dictionary)\n",
        "\n",
        "label_idx = 3\n",
        "for f in ['dev.tsv', 'train.tsv']:\n",
        "    table = pd.read_csv(f, header = None, sep = '\\t')\n",
        "    table[label_idx] = table[label_idx].map(dictionary)\n",
        "    print(table[label_idx].map(dictionary))\n",
        "    table.to_csv(f'translation/{f}', index = None, header = None, sep = '\\t')\n",
        "\n",
        "label_idx = 'sentence'    \n",
        "f = 'test.tsv'\n",
        "table = pd.read_csv(f, sep = '\\t')\n",
        "table[label_idx] = table[label_idx].map(dictionary)\n",
        "table.to_csv(f'translation/{f}', index = None, header = None, sep = '\\t')"
      ],
      "execution_count": 0,
      "outputs": []
    }
  ]
}
